{
 "cells": [
  {
   "cell_type": "markdown",
   "metadata": {},
   "source": [
    "## 1. Abyssal Recipes (50 pts)\n",
    "Munk's 1966 Abyssal Recipes is a balance between vertical heat advection and the vertical diffusion of heat from the surface down into the ocean interior:\n",
    "\\begin{equation}\n",
    "    w\\frac{\\partial T}{\\partial z} = \\frac{\\partial}{\\partial z}\\left(\\kappa_v\\frac{\\partial T}{\\partial z}\\right).\n",
    "\\end{equation}\n",
    "### Part 1 (25 pts)\n",
    "1. Make an estimate of the sign and magnitude of the vertical velocity ($w$) in units of **cm day$^{-1}$** if the vertical temperature profile is exponential: $\\displaystyle T(z) = T_o e^{z/h_T}$ where $T_o$ is the surface temperature and the depth scale ($h_T$) is 1000 m.\n",
    "2. Give an explanation for why a linear vertical temperature profile invalidates this model.  \n",
    "\n",
    "### Part 2 (25 pts)\n",
    "1. Make an estimate of the vertical upwelling velocity ($w$) in units of **cm day$^{-1}$** using volume conservation if there is a deep water source in the Arctic ($S_1$) of 18 Sv and a deep water source in the Antarctic ($S_2$) of 13 Sv.  The average volume ($\\forall$) of the ocean is 1.335$\\times$10$^{9}$ km$^3$.\n",
    "2. Compare your result with **Part 1** and discuss any limitations of the Munk 1966 result. \n",
    "3. How does this upwelling velocity compare with typical values for Ekman pumping (Subtropical gyres) and suction (Subpolar gyres) values?  **Hint:**  Use the wind stress curl map from lecture. \n"
   ]
  },
  {
   "cell_type": "code",
   "execution_count": 1,
   "metadata": {},
   "outputs": [],
   "source": [
    "# Import Modules\n",
    "import numpy as np\n",
    "import matplotlib.pyplot as plt"
   ]
  },
  {
   "cell_type": "markdown",
   "metadata": {},
   "source": [
    "### Part 1, problem 1\n",
    "Assume: A constant vertical eddy diffusivity of $\\kappa_v = 10^{-4}$ m$^2$ s$^{-1}$\n",
    "\n",
    "$\\partial T/\\partial z = T_o/h_Te^{z/h_T}$, $\\partial^2 T/\\partial z^2 = T_o/h^2_Te^{z/h_T}$\n",
    "\n",
    "$w\\frac{\\partial T}{\\partial z} = \\frac{\\partial}{\\partial z}\\left(\\kappa_v\\frac{\\partial T}{\\partial z}\\right) \\rightarrow w\\frac{\\partial T}{\\partial z} = \\kappa_v\\frac{\\partial^2 T}{\\partial z^2}$\n",
    "\n",
    "$wT_o/h_Te^{z/h_T} = \\kappa_vT_o/h^2_Te^{z/h_T} \\rightarrow w = \\kappa_v/h_T$"
   ]
  },
  {
   "cell_type": "code",
   "execution_count": 2,
   "metadata": {},
   "outputs": [
    {
     "data": {
      "text/plain": [
       "Text(0, 0.5, 'z [m]')"
      ]
     },
     "execution_count": 2,
     "metadata": {},
     "output_type": "execute_result"
    },
    {
     "data": {
      "image/png": "[encoded data removed]",
      "text/plain": [
       "<Figure size 432x288 with 1 Axes>"
      ]
     },
     "metadata": {
      "needs_background": "light"
     },
     "output_type": "display_data"
    }
   ],
   "source": [
    "To = 30.  # C\n",
    "h_T = 1.e3\n",
    "kappa_v = 1.e-4  # m^2 s^-1\n",
    "z = np.arange(-4000, 1)\n",
    "T = To*np.exp(z/h_T)\n",
    "\n",
    "plt.plot(T, z)\n",
    "plt.xlabel('T [$^{\\circ}$C]')\n",
    "plt.ylabel('z [m]')"
   ]
  },
  {
   "cell_type": "markdown",
   "metadata": {},
   "source": [
    "I chose a surface temperature of 30$^{\\circ}$C since Munk picked a tropical temperature profile in the warm pool."
   ]
  },
  {
   "cell_type": "code",
   "execution_count": 3,
   "metadata": {},
   "outputs": [
    {
     "data": {
      "text/plain": [
       "'w = 0.86 cm/day'"
      ]
     },
     "execution_count": 3,
     "metadata": {},
     "output_type": "execute_result"
    }
   ],
   "source": [
    "w = kappa_v/h_T*1.e2*86400. # cm day^-1\n",
    "f'w = {round(w, 2)} cm/day'"
   ]
  },
  {
   "cell_type": "markdown",
   "metadata": {},
   "source": [
    "### Part 1, problem 2\n",
    "\n",
    "A linear temperature profile mathematically invalidates this model because there would be no vertical flux divergence of heat.\n",
    "\n",
    "The relation in equation 1 is a parameterization for mixing in the interior by eddies, hence the name for the diffusivity as an eddy diffusivity.  The true relation should look like this:\n",
    "\n",
    "$w\\frac{\\partial T}{\\partial z} = -\\frac{\\partial\\overline{w^{\\prime}T^{\\prime}}}{\\partial z}$, where primes are anomalies (eddy quantities) and the overbar is an average (time in this case).  This relation says that a convergence of heat is associated with positive temperature advection.\n",
    "\n",
    "Eddies are acting to smooth out temperature gradients.  With a positive vertical temperature gradient eddies bring warm water down and cool water up which means when warm water is brought down $w^{\\prime}<0$ and $T^{\\prime}>0$ so that $w^{\\prime}T^{\\prime} < 0$.  The same is true for water being brought up, $w^{\\prime}T^{\\prime} < 0$ .  The eddy process is likely breaking over internal waves or Kelvin-Helmholtz instability at density interfaces in the ocean interior.  The vertical eddy temperature flux is parameterized as downgradient so that movement of heat is from hot to cold.\n",
    "\n",
    "$\\overline{w^{\\prime}T^{\\prime}} = -\\kappa_v\\frac{\\partial T}{\\partial z}$\n",
    "\n",
    "For a control volume in the ocean interior, if the flux into the control volume at the top is the same as the flux out at the bottom then there is no convergence or divergence of heat into the control volume.  A linear temperature profile leads to no flux divergence, meaning the flux into the box at the top is the same out of the box at the bottom.  In order to have a flux divergence or convergence we need the heat flux into the box to be greater than what leaves.  This is achieved only with a nonlinear temperature profile."
   ]
  },
  {
   "cell_type": "markdown",
   "metadata": {},
   "source": [
    "### Part 2, problem 1\n",
    "Since volume is conserved the source of deep water formation in the high latitudes to the deep sub-thermocline must be balanced by upwelling.  If we assume that this upwelling velocity is uniform thorughout the world's oceans you can set the source of deep water volume transport equal to the vertical velocity times the surface area of the ocean.\n",
    "\n",
    "$S = S_1 + S_2 = wA$\n",
    "\n",
    "$\\forall = AH$ where $H$ is the average depth of the ocean at 4000 m.\n",
    "\n",
    "$w = \\frac{SH}{\\forall} = \\frac{[(18+13)x10^6~\\mbox{m}^3/\\mbox{s}](4000~\\mbox{m})}{1.335x10^9~\\mbox{km}^3(10^3~\\mbox{m})^3/\\mbox{km}^3)}(86400~\\mbox{s}/\\mbox{day})(10^2~\\mbox{cm}/\\mbox{m}) = 0.8$  cm/day"
   ]
  },
  {
   "cell_type": "code",
   "execution_count": 4,
   "metadata": {},
   "outputs": [
    {
     "data": {
      "text/plain": [
       "'w = 0.8 cm/day'"
      ]
     },
     "execution_count": 4,
     "metadata": {},
     "output_type": "execute_result"
    }
   ],
   "source": [
    "S = (18+13)*1.e6  # m^3/s\n",
    "H = 4.e3 # m\n",
    "V = 1.335e9 # km^3\n",
    "\n",
    "w = S*H/V*86400*1.e2/(1.e9)\n",
    "f'w = {round(w, 2)} cm/day'"
   ]
  },
  {
   "cell_type": "markdown",
   "metadata": {},
   "source": [
    "### Part 2, problem 2\n",
    "The value of the vertical velocity is very similar to the value in **Part 1**.  Some limitations of the Munk model is that ocean bottom is not flat, which results in eddy diffusivities that are not uniform in the ocean interior.  They can be orders of magnitude larger near steep topography where internal tides are generated and break.  This would mean that the upwelling velocity over the globe is not uniform."
   ]
  },
  {
   "cell_type": "markdown",
   "metadata": {},
   "source": [
    "### Part 2, problem 3\n",
    "\n",
    "If we compare values of the upwelling velocity with that due to the Ekman pumping (subtropical gyres) and suction (subpolar gyres):\n",
    "\\begin{equation}\n",
    "w_E = \\frac{\\mbox{curl}_z(\\tau)}{\\rho f}\n",
    "\\end{equation}\n",
    "\n",
    "we can use a value of -2x10$^{-7}$ N m$^{-3}$ at 30$^{\\circ}$N and 2x10$^{-7}$ N m$^{-3}$ at 60$^{\\circ}$N. "
   ]
  },
  {
   "cell_type": "code",
   "execution_count": 5,
   "metadata": {},
   "outputs": [
    {
     "data": {
      "text/plain": [
       "'w = 13.35 cm/day in the subpolar N. Atlantic and -23.13 cm/day in the subtropical N. Atlantic.'"
      ]
     },
     "execution_count": 5,
     "metadata": {},
     "output_type": "execute_result"
    }
   ],
   "source": [
    "curl_tau = 2.e-7  # N m^-3\n",
    "f_sp = 2.*7.29e-5*np.sin(60.*np.pi/180.)  # s^-1\n",
    "f_st = 2.*7.29e-5*np.sin(30.*np.pi/180.)  # s^-1\n",
    "rho = 1025. # kg m^-3\n",
    "\n",
    "w_E_sp = curl_tau/(rho*f_sp)*1.e2*86400. # cm/day\n",
    "w_E_st = -curl_tau/(rho*f_st)*1.e2*86400. # cm/day\n",
    "\n",
    "f'w = {round(w_E_sp, 2)} cm/day in the subpolar N. Atlantic and {round(w_E_st, 2)} cm/day in the subtropical N. Atlantic.'"
   ]
  },
  {
   "cell_type": "markdown",
   "metadata": {},
   "source": [
    "The Ekman vertical velocity at the base of the Ekman (wind-driven mixed layer) is 10 to 20 times larger than the vertical upwelling velocity from deep water formation.  This makes it very difficult to measure the overturning ciruclation."
   ]
  }
 ],
 "metadata": {
  "kernelspec": {
   "display_name": "Python 3",
   "language": "python",
   "name": "python3"
  },
  "language_info": {
   "codemirror_mode": {
    "name": "ipython",
    "version": 3
   },
   "file_extension": ".py",
   "mimetype": "text/x-python",
   "name": "python",
   "nbconvert_exporter": "python",
   "pygments_lexer": "ipython3",
   "version": "3.7.1"
  }
 },
 "nbformat": 4,
 "nbformat_minor": 4
}
