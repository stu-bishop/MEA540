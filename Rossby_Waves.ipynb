{
 "cells": [
  {
   "cell_type": "markdown",
   "metadata": {},
   "source": [
    "# 2. Rossby Waves (50 pts)\n",
    "### Part 1 (25 pts)\n",
    "For a baroclinic Rossby wave (RW) in the Pacific Ocean with a zonal wavelength of 600 km and no meridional wavelength:\n",
    "1. In the midlatitudes at 35$^{\\circ}$N is this a long or short Rossby wave?\n",
    "2. Determine the phase speed ($c_p$) and group velocity ($c_g$) in the midlatitudes at 35$^{\\circ}$N in units of **km day$^{-1}$**.\n",
    "3. How long would it take the phase and energy to travel across the Pacific?\n",
    "4. Repeat a)--c) for the tropics at 5$^{\\circ}$N.\n",
    "\n",
    "### Part 2 (25 pts)\n",
    "Repeat Part 1 for the case of a barotropic Rossby wave in a 4000 m depth ocean.\n"
   ]
  },
  {
   "cell_type": "code",
   "execution_count": 1,
   "metadata": {},
   "outputs": [],
   "source": [
    "# Import modules\n",
    "import matplotlib.pyplot as plt\n",
    "import numpy as np\n",
    "from IPython.display import display, Math\n",
    "import warnings\n",
    "warnings.filterwarnings('ignore')"
   ]
  },
  {
   "cell_type": "code",
   "execution_count": 2,
   "metadata": {},
   "outputs": [],
   "source": [
    "# Problem parameters\n",
    "g = 9.81  # m s^-2\n",
    "H = 4e3 # m\n",
    "beta = 2e-11  # m^-1 s^-1\n",
    "lat_mid = 35.  # deg N\n",
    "lat_trop = 5.  # deg N\n",
    "Omega = 7.29e-5  # rad s^-1"
   ]
  },
  {
   "cell_type": "code",
   "execution_count": 3,
   "metadata": {},
   "outputs": [],
   "source": [
    "# Function to calculate the Coriolis parameter\n",
    "def f(lat):\n",
    "    return 2.*Omega*np.sin(lat*np.pi/180.)  # rad s^-1"
   ]
  },
  {
   "cell_type": "code",
   "execution_count": 4,
   "metadata": {},
   "outputs": [
    {
     "data": {
      "text/latex": [
       "$\\displaystyle k = 0.0105 \\, \\text{km}^{-1}$"
      ],
      "text/plain": [
       "<IPython.core.display.Math object>"
      ]
     },
     "metadata": {},
     "output_type": "display_data"
    }
   ],
   "source": [
    "wavelength = 600. # km\n",
    "K = 2.*np.pi/wavelength  # km^-1  Zonal Wavenumber\n",
    "display(Math(f'k = {round(K, 4)} \\, \\\\text{{km}}^{{-1}}')) "
   ]
  },
  {
   "cell_type": "code",
   "execution_count": 5,
   "metadata": {},
   "outputs": [
    {
     "data": {
      "text/latex": [
       "$\\displaystyle R_E = 2370.0 \\, \\text{km in the midlatitudes at } 35^{\\circ}\\text{N}$"
      ],
      "text/plain": [
       "<IPython.core.display.Math object>"
      ]
     },
     "metadata": {},
     "output_type": "display_data"
    },
    {
     "data": {
      "text/latex": [
       "$\\displaystyle R_E = 15590.0 \\, \\text{km in the tropics at } 5^{\\circ}\\text{N}$"
      ],
      "text/plain": [
       "<IPython.core.display.Math object>"
      ]
     },
     "metadata": {},
     "output_type": "display_data"
    }
   ],
   "source": [
    "### Deformation Radii\n",
    "\n",
    "# External\n",
    "R_E_mid = np.sqrt(g*H)/f(lat_mid)/1e3 # km\n",
    "R_E_trop = np.sqrt(g*H)/f(lat_trop)/1e3 # km\n",
    "display(Math(r'R_E = {} \\, \\text{{km in the midlatitudes at }} {}^{{\\circ}}\\text{{N}}'.format(round(R_E_mid, -1), round(lat_mid))))\n",
    "display(Math(r'R_E = {} \\, \\text{{km in the tropics at }} {}^{{\\circ}}\\text{{N}}'.format(round(R_E_trop, -1), round(lat_trop))))\n",
    "\n",
    "# Internal (Chosen from lecture global map)\n",
    "R_mid = 30. # km\n",
    "R_trop = 200. # km"
   ]
  },
  {
   "cell_type": "markdown",
   "metadata": {},
   "source": [
    "### Part 1, problem 1\n",
    "\n",
    "The dispersion relation for a baroclinic RW with no meridional wavelength is as follows:\n",
    "\\begin{equation}\n",
    "    \\omega(k) = \\frac{-\\beta k}{k^2 + R^2_I} = \\frac{-\\beta/k}{1 + (kR_I)^{-2}}\n",
    "\\end{equation}\n",
    "We need to determine the value of the ratio:\n",
    "\n",
    "$(kR_I)^{-2} = (\\lambda/2\\pi R_I)^2$"
   ]
  },
  {
   "cell_type": "code",
   "execution_count": 6,
   "metadata": {},
   "outputs": [
    {
     "data": {
      "text/plain": [
       "10.13211836423378"
      ]
     },
     "execution_count": 6,
     "metadata": {},
     "output_type": "execute_result"
    }
   ],
   "source": [
    "(wavelength/(2.*np.pi*R_mid))**2"
   ]
  },
  {
   "cell_type": "markdown",
   "metadata": {},
   "source": [
    "The ratio is much greater than 1 so that this is a long RW and the dispersion relation can be approximated as:\n",
    "\n",
    "$ \\displaystyle \\omega(k)\\approx -\\beta R^2_I k $"
   ]
  },
  {
   "cell_type": "markdown",
   "metadata": {},
   "source": [
    "### Part 1, problem 2\n",
    "\n",
    "The phase speed ($c_p$) is approximately:\n",
    "\\begin{equation}\n",
    "    c_p = \\frac{\\omega}{k} = \\frac{-\\beta}{k^2 + R^2_I} \\approx -\\beta R^2_I\n",
    "\\end{equation}\n",
    "\n",
    "The group velocity ($c_g$) is approximately the same as the phase speed:\n",
    "\\begin{equation}\n",
    "    c_g = \\frac{\\partial\\omega}{\\partial k} \\approx -\\beta R^2_I\n",
    "\\end{equation}"
   ]
  },
  {
   "cell_type": "code",
   "execution_count": 7,
   "metadata": {},
   "outputs": [],
   "source": [
    "# Functions to calculate angular frequency and phase speed\n",
    "\n",
    "# Inputs:\n",
    "# k [km^-1]\n",
    "# R [km]\n",
    "\n",
    "def omega_rw(k, R):\n",
    "    return -beta*(k/1.e3)/((k/1.e3)**2 + (R*1.e3)**(-2))*86400.  # day^-1\n",
    "\n",
    "def cp_rw(k, R):\n",
    "    return omega_rw(k, R)/k  # km day^-1\n",
    "\n",
    "def cp_short(k):\n",
    "    return -beta/((k/1.e3)**2)/1.e3*86400.  # km day^-1\n",
    "\n",
    "def cp_long(R):\n",
    "    return -(beta*(R*1.e3)**2)/1.e3*86400.  # km day^-1\n",
    "\n",
    "def cg_long(R):\n",
    "    return -(beta*(R*1.e3)**2)/1.e3*86400.  # km day^-1\n",
    "\n",
    "def cg_short(k):\n",
    "    return beta/((k/1.e3)**2)/1.e3*86400.  # km day^-1"
   ]
  },
  {
   "cell_type": "code",
   "execution_count": 8,
   "metadata": {},
   "outputs": [
    {
     "data": {
      "text/latex": [
       "$\\displaystyle c_p = -1.42 \\, \\text{km/day} \\, \\text{full solution for RWs}$"
      ],
      "text/plain": [
       "<IPython.core.display.Math object>"
      ]
     },
     "metadata": {},
     "output_type": "display_data"
    },
    {
     "data": {
      "text/latex": [
       "$\\displaystyle c_p = -1.56 \\, \\text{km/day} \\, \\text{approximate solution for long RWs}$"
      ],
      "text/plain": [
       "<IPython.core.display.Math object>"
      ]
     },
     "metadata": {},
     "output_type": "display_data"
    },
    {
     "data": {
      "text/latex": [
       "$\\displaystyle c_g = -1.56 \\, \\text{km/day} \\, \\text{approximate solution for long RWs}$"
      ],
      "text/plain": [
       "<IPython.core.display.Math object>"
      ]
     },
     "metadata": {},
     "output_type": "display_data"
    }
   ],
   "source": [
    "# Phase speed & group velocity\n",
    "cp_mid = cp_rw(K, R_mid)\n",
    "cp_mid_long = cp_long(R_mid)\n",
    "cg_mid_long = cg_long(R_mid)\n",
    "\n",
    "display(Math(f'c_p = {round(cp_mid, 2)} \\, \\\\text{{km/day}} \\, \\\\text{{full solution for RWs}}'))\n",
    "display(Math(f'c_p = {round(cp_mid_long, 2)} \\, \\\\text{{km/day}} \\, \\\\text{{approximate solution for long RWs}}'))\n",
    "display(Math(f'c_g = {round(cg_mid_long, 2)} \\, \\\\text{{km/day}} \\, \\\\text{{approximate solution for long RWs}}'))"
   ]
  },
  {
   "cell_type": "markdown",
   "metadata": {},
   "source": [
    "The phase speed is not a function of wavenumber so that it is **nondispersive**.  The sign is negative for both the phase speed and group velocity so that there is westward propagation of the phase and energy at the same speed."
   ]
  },
  {
   "cell_type": "markdown",
   "metadata": {},
   "source": [
    "### Part 1, problem 3\n",
    "\n",
    "The width ($L$) of the Pacific at 35$^{\\circ}$N is approximate 100$^{\\circ}$ of longitude.\n",
    "\n",
    "$t = L/c_p$"
   ]
  },
  {
   "cell_type": "code",
   "execution_count": 9,
   "metadata": {},
   "outputs": [
    {
     "data": {
      "text/plain": [
       "'L = -9092.588 km'"
      ]
     },
     "execution_count": 9,
     "metadata": {},
     "output_type": "execute_result"
    }
   ],
   "source": [
    "L = -100.*111.*np.cos(lat_mid*np.pi/180.) # km\n",
    "f'L = {round(L, 3)} km'"
   ]
  },
  {
   "cell_type": "code",
   "execution_count": 10,
   "metadata": {},
   "outputs": [
    {
     "data": {
      "text/plain": [
       "'t = 17.6 years'"
      ]
     },
     "execution_count": 10,
     "metadata": {},
     "output_type": "execute_result"
    }
   ],
   "source": [
    "t = L/cp_mid/365\n",
    "f't = {round(t, 1)} years'"
   ]
  },
  {
   "cell_type": "markdown",
   "metadata": {},
   "source": [
    "It would take 17.6 year for the phase and energy to propagate across the Pacific at 35$^{\\circ}$N."
   ]
  },
  {
   "cell_type": "markdown",
   "metadata": {},
   "source": [
    "### Part 1, problem 4"
   ]
  },
  {
   "cell_type": "code",
   "execution_count": 11,
   "metadata": {},
   "outputs": [
    {
     "data": {
      "text/plain": [
       "0.22797266319526"
      ]
     },
     "execution_count": 11,
     "metadata": {},
     "output_type": "execute_result"
    }
   ],
   "source": [
    "(wavelength/(2.*np.pi*R_trop))**2"
   ]
  },
  {
   "cell_type": "markdown",
   "metadata": {},
   "source": [
    "The ratio is much smaller than 1 so that this is a short RW and the dispersion relation can be approximated as:\n",
    "\n",
    "$ \\displaystyle \\omega(k)\\approx -\\beta / k $\n",
    "\n",
    "The phase speed ($c_p$):\n",
    "\\begin{equation}\n",
    "    c_p \\approx -\\frac{\\beta}{k^2}\n",
    "\\end{equation}\n",
    "\n",
    "The group velocity ($c_g$) is approximately the same as the phase speed\n",
    "\\begin{equation}\n",
    "    c_g \\approx \\frac{\\beta}{k^2}\n",
    "\\end{equation}"
   ]
  },
  {
   "cell_type": "code",
   "execution_count": 12,
   "metadata": {},
   "outputs": [
    {
     "data": {
      "text/latex": [
       "$\\displaystyle c_p = -12.83 \\, \\text{km/day} \\, \\text{full solution for RWs}$"
      ],
      "text/plain": [
       "<IPython.core.display.Math object>"
      ]
     },
     "metadata": {},
     "output_type": "display_data"
    },
    {
     "data": {
      "text/latex": [
       "$\\displaystyle c_p = -15.76 \\, \\text{km/day} \\, \\text{approximate solution for long RWs}$"
      ],
      "text/plain": [
       "<IPython.core.display.Math object>"
      ]
     },
     "metadata": {},
     "output_type": "display_data"
    },
    {
     "data": {
      "text/latex": [
       "$\\displaystyle c_g = 15.76 \\, \\text{km/day} \\, \\text{approximate solution for long RWs}$"
      ],
      "text/plain": [
       "<IPython.core.display.Math object>"
      ]
     },
     "metadata": {},
     "output_type": "display_data"
    }
   ],
   "source": [
    "cp_trop = cp_rw(K, R_trop)\n",
    "cp_trop_short = cp_short(K)\n",
    "cg_trop_short = cg_short(K)\n",
    "\n",
    "display(Math(f'c_p = {round(cp_trop, 2)} \\, \\\\text{{km/day}} \\, \\\\text{{full solution for RWs}}'))\n",
    "display(Math(f'c_p = {round(cp_trop_short, 2)} \\, \\\\text{{km/day}} \\, \\\\text{{approximate solution for long RWs}}'))\n",
    "display(Math(f'c_g = {round(cg_trop_short, 2)} \\, \\\\text{{km/day}} \\, \\\\text{{approximate solution for long RWs}}'))"
   ]
  },
  {
   "cell_type": "markdown",
   "metadata": {},
   "source": [
    "The baroclinic RWs in the tropics propagate much faster than those in the midlatitudes.  The phase does dependent on wavenumber so short RWs are **dispersive**. The phase propagates westward while the energy propagates eastward.  "
   ]
  },
  {
   "cell_type": "code",
   "execution_count": 13,
   "metadata": {},
   "outputs": [
    {
     "data": {
      "text/plain": [
       "'L = -11057.761 km'"
      ]
     },
     "execution_count": 13,
     "metadata": {},
     "output_type": "execute_result"
    }
   ],
   "source": [
    "L = -100.*111.*np.cos(lat_trop*np.pi/180.) # km\n",
    "f'L = {round(L, 3)} km'"
   ]
  },
  {
   "cell_type": "code",
   "execution_count": 14,
   "metadata": {},
   "outputs": [
    {
     "data": {
      "text/plain": [
       "'t = 2.4 years'"
      ]
     },
     "execution_count": 14,
     "metadata": {},
     "output_type": "execute_result"
    }
   ],
   "source": [
    "t = L/cp_trop/365\n",
    "f't = {round(t, 1)} years'"
   ]
  },
  {
   "cell_type": "markdown",
   "metadata": {},
   "source": [
    "It would take the phase to cross the Pacific at 5$^{\\circ}$N 2.4 years.  If the wave initiated on the eastern side of the Pacific, the energy would not propagate across the ocean."
   ]
  },
  {
   "cell_type": "code",
   "execution_count": 15,
   "metadata": {},
   "outputs": [],
   "source": [
    "# Figures of omega vs. k and cp vs. k for baroclinic RWs in the midlatitudes and tropics\n",
    "ci = 1.e-6\n",
    "k = np.arange(-0.1, 0+ci, ci)  # km^-1\n",
    "omega_mid = omega_rw(k, R_mid)\n",
    "omega_trop = omega_rw(k, R_trop)\n",
    "omega_baro_mid = omega_rw(k, R_E_mid)\n",
    "omega_baro_trop = omega_rw(k, R_E_trop)"
   ]
  },
  {
   "cell_type": "code",
   "execution_count": 16,
   "metadata": {},
   "outputs": [
    {
     "data": {
      "text/plain": [
       "Text(0.5, 1.0, 'Tropics ($\\\\phi = $5$^{\\\\circ}$N)')"
      ]
     },
     "execution_count": 16,
     "metadata": {},
     "output_type": "execute_result"
    },
    {
     "data": {
      "image/png": "[encoded data removed]",
      "text/plain": [
       "<Figure size 936x648 with 2 Axes>"
      ]
     },
     "metadata": {
      "needs_background": "light"
     },
     "output_type": "display_data"
    }
   ],
   "source": [
    "plt.rcParams['figure.figsize'] = 13, 9\n",
    "fntsize = 12\n",
    "fntsize_title = 14\n",
    "\n",
    "y = np.arange(0, 1.5+0.01, 0.01)\n",
    "\n",
    "plt.subplot(2, 2, 1)\n",
    "plt.plot(k, omega_mid)\n",
    "plt.plot(-2.*np.pi/wavelength*np.ones((y.size, )), y, '--k', linewidth=2)\n",
    "plt.xlim(-0.1, 0)\n",
    "plt.ylim(0, 0.04)\n",
    "plt.xlabel('k [km$^{-1}$]', fontsize=fntsize)\n",
    "plt.ylabel('$\\omega$ [day$^{-1}$]', fontsize=fntsize)\n",
    "plt.grid(True)\n",
    "plt.title('Midlatitudes ($\\phi = $' + str(round(lat_mid)) + '$^{\\circ}$N)', fontsize=fntsize_title)\n",
    "\n",
    "plt.subplot(2, 2, 2)\n",
    "plt.plot(k, omega_trop)\n",
    "plt.plot(-2.*np.pi/wavelength*np.ones((y.size, )), y, '--k', linewidth=2)\n",
    "plt.xlim(-0.025, 0)\n",
    "plt.ylim(0, 0.2)\n",
    "plt.xlabel('k [km$^{-1}$]', fontsize=fntsize)\n",
    "plt.ylabel('$\\omega$ [day$^{-1}$]', fontsize=fntsize)\n",
    "plt.grid(True)\n",
    "plt.title('Tropics ($\\phi = $' + str(round(lat_trop)) + '$^{\\circ}$N)', fontsize=fntsize_title)"
   ]
  },
  {
   "cell_type": "code",
   "execution_count": 17,
   "metadata": {},
   "outputs": [
    {
     "data": {
      "text/plain": [
       "Text(0.5, 1.0, 'Tropics ($\\\\phi = $5$^{\\\\circ}$N)')"
      ]
     },
     "execution_count": 17,
     "metadata": {},
     "output_type": "execute_result"
    },
    {
     "data": {
      "image/png": "[encoded data removed]",
      "text/plain": [
       "<Figure size 936x648 with 2 Axes>"
      ]
     },
     "metadata": {
      "needs_background": "light"
     },
     "output_type": "display_data"
    }
   ],
   "source": [
    "# Baroclinic RW Phase Speed Plots\n",
    "\n",
    "cp_mid = cp_rw(k, R_mid)\n",
    "cp_trop = cp_rw(k, R_trop)\n",
    "cp_trop_long = cp_long(R_trop)\n",
    "\n",
    "y = np.linspace(np.min(cp_mid)-0.1, 0)\n",
    "y2 = np.linspace(np.min(cp_trop)-5, 0)\n",
    "plt.subplot(2, 2, 1)\n",
    "plt.plot(k, cp_mid)\n",
    "plt.plot(k, cp_short(k))\n",
    "plt.plot(k, cp_mid_long*np.ones((k.size, )))\n",
    "plt.legend(('Full', 'Short', 'Long'))\n",
    "plt.plot(-2.*np.pi/wavelength*np.ones((y.size, )), y, '--k', linewidth=2)\n",
    "plt.xlim(-0.1, 0)\n",
    "plt.ylim(np.min(cp_mid)-0.1, 0)\n",
    "plt.xlabel('k [km$^{-1}$]', fontsize=fntsize)\n",
    "plt.ylabel('$c_p$ [km day$^{-1}$]', fontsize=fntsize)\n",
    "plt.grid(True)\n",
    "plt.title('Midlatitudes ($\\phi = $' + str(round(lat_mid)) + '$^{\\circ}$N)', fontsize=fntsize_title)\n",
    "\n",
    "plt.subplot(2, 2, 2)\n",
    "plt.plot(k, cp_trop)\n",
    "plt.plot(k, cp_short(k))\n",
    "plt.plot(k, cp_trop_long*np.ones((k.size, )))\n",
    "plt.plot(-2.*np.pi/wavelength*np.ones((y2.size, )), y2, '--k', linewidth=2)\n",
    "plt.xlim(-0.025, 0)\n",
    "plt.ylim(np.min(cp_trop)-5, 0)\n",
    "plt.xlabel('k [km$^{-1}$]', fontsize=fntsize)\n",
    "plt.ylabel('$c_p$ [km day$^{-1}$]', fontsize=fntsize)\n",
    "plt.grid(True)\n",
    "plt.title('Tropics ($\\phi = $' + str(round(lat_trop)) + '$^{\\circ}$N)', fontsize=fntsize_title)"
   ]
  },
  {
   "cell_type": "markdown",
   "metadata": {},
   "source": [
    "### Part 2"
   ]
  },
  {
   "cell_type": "code",
   "execution_count": 18,
   "metadata": {},
   "outputs": [
    {
     "data": {
      "text/plain": [
       "0.0016252172228679949"
      ]
     },
     "execution_count": 18,
     "metadata": {},
     "output_type": "execute_result"
    }
   ],
   "source": [
    "(wavelength/(2.*np.pi*R_E_mid))**2"
   ]
  },
  {
   "cell_type": "code",
   "execution_count": 19,
   "metadata": {},
   "outputs": [
    {
     "data": {
      "text/plain": [
       "3.752501115067509e-05"
      ]
     },
     "execution_count": 19,
     "metadata": {},
     "output_type": "execute_result"
    }
   ],
   "source": [
    "(wavelength/(2.*np.pi*R_E_trop))**2"
   ]
  },
  {
   "cell_type": "markdown",
   "metadata": {},
   "source": [
    "Barotropic RWs with a 600 km wavelength are short waves in both the midlatitudes and tropics.  Answers are the same as in **Part 1, problem 4**."
   ]
  },
  {
   "cell_type": "code",
   "execution_count": null,
   "metadata": {},
   "outputs": [],
   "source": []
  }
 ],
 "metadata": {
  "kernelspec": {
   "display_name": "Python 3",
   "language": "python",
   "name": "python3"
  },
  "language_info": {
   "codemirror_mode": {
    "name": "ipython",
    "version": 3
   },
   "file_extension": ".py",
   "mimetype": "text/x-python",
   "name": "python",
   "nbconvert_exporter": "python",
   "pygments_lexer": "ipython3",
   "version": "3.7.1"
  }
 },
 "nbformat": 4,
 "nbformat_minor": 4
}
