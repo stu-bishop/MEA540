{
 "cells": [
  {
   "cell_type": "markdown",
   "metadata": {},
   "source": [
    "# MEA 540 \n",
    "**Thermal Wind HW Solution**\n",
    "\n",
    "A form of the potential temperature ($\\theta$) structure for the Gulf Stream after separation from Cape Hatteras is that it is linear in the meridional direction ($y$) and exponential in the vertical ($z$) with the following form\n",
    "\\begin{equation}\n",
    "\\theta(y,z) = (\\theta_o + \\Gamma y)e^{z/h}\n",
    "\\end{equation}\n",
    "where $\\theta_o$ = 20$^{\\circ}$C is a constant surface temperature at the core of the jet ($y=0$), $\\Gamma = -10^{\\circ}\\mbox{C}/100~\\mbox{km}$ is a constant meridional temperature gradient, $h$ is the scale depth to be determined, and there is no zonal dependence.  It is assumed that the density field follows the simple equation of state in the class lecture with a thermal expansion coefficient ($\\alpha_{\\theta}$) equal to 2$\\times$10$^{-4}$ $^{\\circ}$C$^{-1}$ and a reference density ($\\rho_o$) equal to 1025 kg m$^{-3}$.\n",
    "\n",
    "1. Use the concept of thermal wind to derive a symbolic expression for the zonal vertical shear ($\\partial u/\\partial z$).\n",
    "2. Use the expression from (a) to determine the sign and magnitude of the zonal vertical shear at the sea surface ($z=0$) in units of s$^{-1}$.\n",
    "3. Use the expression from (a) to show that the zonal current, $u(z)$, has the following form:\n",
    "\\begin{equation}\n",
    "u(z) = u_o + \\frac{\\alpha_{\\theta}g}{f}\\Gamma h(1-e^{z/h})\n",
    "\\end{equation}\n",
    "where $u_o$ is a constant surface velocity.  \\textbf{Hint}: Vertically-integrate from an arbitrary depth ($z$) to the surface, $\\displaystyle\\int^0_z (a)\\mathrm{d}z^{\\prime}$.\n",
    "4. Determine what the vertical scale depth $h$ should be in units of meters if the zonal current vanishes at $z=-h$ with $u_o = 2$ m s$^{-1}$.\n",
    "5. Use your favorite plotting software to plot $u$ vs. $z$ in m s$^{-1}$ from $z$ = -1000 m to the surface and comment on why there is no y-dependence.\n",
    "\n"
   ]
  },
  {
   "cell_type": "code",
   "execution_count": 4,
   "metadata": {},
   "outputs": [],
   "source": [
    "# Import Modules\n",
    "import matplotlib.pyplot as plt\n",
    "import numpy as np\n",
    "import warnings, sys\n",
    "warnings.filterwarnings('ignore')"
   ]
  },
  {
   "cell_type": "code",
   "execution_count": 5,
   "metadata": {},
   "outputs": [],
   "source": [
    "# Jet parameters\n",
    "alpha = 2.e-4 # C^-1\n",
    "g = 9.81  # m s^-2\n",
    "phi = 35.  # Latitude\n",
    "f = 2.*7.29e-5*np.sin(phi*np.pi/180.)  # s^-1\n",
    "u_o = 2.  # m s^-1\n",
    "To = 20.  # C\n",
    "Ty = -10./100. # C km^-1"
   ]
  },
  {
   "cell_type": "code",
   "execution_count": 14,
   "metadata": {},
   "outputs": [
    {
     "name": "stdout",
     "output_type": "stream",
     "text": [
      "1348.5898993620951 meters\n"
     ]
    }
   ],
   "source": [
    "# Scale depth\n",
    "h = -f/(alpha*g)*u_o/Ty/(1-np.exp(-1))*1.e3  # m\n",
    "print(str(h) + ' meters')"
   ]
  },
  {
   "cell_type": "code",
   "execution_count": 7,
   "metadata": {},
   "outputs": [
    {
     "data": {
      "text/plain": [
       "array([[14.29174523, 14.24410608, 14.19646693, ...,  4.90683253,\n",
       "         4.85919338,  4.81155423],\n",
       "       [14.30234671, 14.25467222, 14.20699773, ...,  4.91047237,\n",
       "         4.86279788,  4.81512339],\n",
       "       [14.31295605, 14.2652462 , 14.21753634, ...,  4.91411491,\n",
       "         4.86640506,  4.8186952 ],\n",
       "       ...,\n",
       "       [29.95554206, 29.85569025, 29.75583844, ..., 10.28473611,\n",
       "        10.1848843 , 10.08503249],\n",
       "       [29.97776279, 29.87783691, 29.77791104, ..., 10.29236522,\n",
       "        10.19243935, 10.09251347],\n",
       "       [30.        , 29.9       , 29.8       , ..., 10.3       ,\n",
       "        10.2       , 10.1       ]])"
      ]
     },
     "execution_count": 7,
     "metadata": {},
     "output_type": "execute_result"
    }
   ],
   "source": [
    "# Temperature array\n",
    "y = np.arange(-100, 100)\n",
    "z = np.arange(-1000, 1)\n",
    "Y, Z = np.meshgrid(y, z)\n",
    "T = (To+Ty*Y)*np.exp(Z/h)  # Linear in y\n",
    "T"
   ]
  },
  {
   "cell_type": "code",
   "execution_count": 8,
   "metadata": {},
   "outputs": [
    {
     "data": {
      "text/plain": [
       "Text(0.5, 1.0, 'Surface Temperature')"
      ]
     },
     "execution_count": 8,
     "metadata": {},
     "output_type": "execute_result"
    },
    {
     "data": {
      "image/png": "[encoded data removed]",
      "text/plain": [
       "<Figure size 432x288 with 1 Axes>"
      ]
     },
     "metadata": {
      "needs_background": "light"
     },
     "output_type": "display_data"
    }
   ],
   "source": [
    "# Plot of surface temperature across the jet\n",
    "plt.plot(T[-1, :], y)\n",
    "plt.xlabel('$\\\\theta$ [$^{\\circ}$C]')\n",
    "plt.ylabel('y [km]')\n",
    "plt.title('Surface Temperature')"
   ]
  },
  {
   "cell_type": "code",
   "execution_count": 9,
   "metadata": {},
   "outputs": [
    {
     "data": {
      "text/plain": [
       "Text(0, 0.5, 'z [m]')"
      ]
     },
     "execution_count": 9,
     "metadata": {},
     "output_type": "execute_result"
    },
    {
     "data": {
      "image/png": "[encoded data removed]",
      "text/plain": [
       "<Figure size 432x288 with 2 Axes>"
      ]
     },
     "metadata": {
      "needs_background": "light"
     },
     "output_type": "display_data"
    }
   ],
   "source": [
    "clev = np.arange(4, 32, 2)\n",
    "plt.contourf(Y, Z, T, levels=clev, extend='both')\n",
    "cbar = plt.colorbar()\n",
    "cbar.set_label('$\\\\theta$ [$^{\\circ}$C]')\n",
    "plt.xlabel('y [km]')\n",
    "plt.ylabel('z [m]')"
   ]
  },
  {
   "cell_type": "code",
   "execution_count": 10,
   "metadata": {},
   "outputs": [
    {
     "data": {
      "text/plain": [
       "array([[0.34332712, 0.34332712, 0.34332712, ..., 0.34332712, 0.34332712,\n",
       "        0.34332712],\n",
       "       [0.34444521, 0.34444521, 0.34444521, ..., 0.34444521, 0.34444521,\n",
       "        0.34444521],\n",
       "       [0.34556412, 0.34556412, 0.34556412, ..., 0.34556412, 0.34556412,\n",
       "        0.34556412],\n",
       "       ...,\n",
       "       [1.99531124, 1.99531124, 1.99531124, ..., 1.99531124, 1.99531124,\n",
       "        1.99531124],\n",
       "       [1.99765475, 1.99765475, 1.99765475, ..., 1.99765475, 1.99765475,\n",
       "        1.99765475],\n",
       "       [2.        , 2.        , 2.        , ..., 2.        , 2.        ,\n",
       "        2.        ]])"
      ]
     },
     "execution_count": 10,
     "metadata": {},
     "output_type": "execute_result"
    }
   ],
   "source": [
    "# Zonal velocity from thermal wind\n",
    "u = u_o + alpha*g/f*Ty*h*(1-np.exp(Z/h))/1.e3  # m s^-1\n",
    "u"
   ]
  },
  {
   "cell_type": "code",
   "execution_count": 12,
   "metadata": {},
   "outputs": [
    {
     "data": {
      "text/plain": [
       "Text(0.5, 0, 'u [m s$^{-1}$]')"
      ]
     },
     "execution_count": 12,
     "metadata": {},
     "output_type": "execute_result"
    },
    {
     "data": {
      "image/png": "[encoded data removed]",
      "text/plain": [
       "<Figure size 936x648 with 3 Axes>"
      ]
     },
     "metadata": {
      "needs_background": "light"
     },
     "output_type": "display_data"
    }
   ],
   "source": [
    "# Figure of jet cross-stream and vertical structure\n",
    "plt.rcParams['figure.figsize'] = 13, 9\n",
    "plt.subplot(2, 2, 1)\n",
    "plt.contourf(Y, Z, u)\n",
    "cbar = plt.colorbar()\n",
    "cbar.set_label('u [m s$^{-1}$]')\n",
    "plt.xlabel('y [km]')\n",
    "plt.ylabel('z [m]')\n",
    "\n",
    "plt.subplot(2, 2, 2)\n",
    "plt.plot(u[:, 0], z)\n",
    "plt.ylabel('z [m]')\n",
    "plt.xlabel('u [m s$^{-1}$]')"
   ]
  },
  {
   "cell_type": "markdown",
   "metadata": {},
   "source": [
    "e) The zonal velocity has an expoential vertical structur with no y-depdendence in this baroclinic flow.  Since the temperature field is linear in y, there is no y-dependence in the velocity field.  You need higher order structure for the velocity to have y-dependece.  In reality the Gulf Stream has a y-structure that is reminiscent of a hyperbolic tangent function (same as for sea surface height see HW1 and HW2).  This leads to the velocity having a laterial structure in y.  "
   ]
  },
  {
   "cell_type": "code",
   "execution_count": null,
   "metadata": {},
   "outputs": [],
   "source": []
  }
 ],
 "metadata": {
  "kernelspec": {
   "display_name": "Python 3",
   "language": "python",
   "name": "python3"
  },
  "language_info": {
   "codemirror_mode": {
    "name": "ipython",
    "version": 3
   },
   "file_extension": ".py",
   "mimetype": "text/x-python",
   "name": "python",
   "nbconvert_exporter": "python",
   "pygments_lexer": "ipython3",
   "version": "3.7.1"
  }
 },
 "nbformat": 4,
 "nbformat_minor": 4
}
